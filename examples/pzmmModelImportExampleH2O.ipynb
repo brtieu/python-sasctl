{
 "cells": [
  {
   "cell_type": "markdown",
   "source": [
    "Copyright © 2021, SAS Institute Inc., Cary, NC, USA.  All Rights Reserved.\n",
    "SPDX-License-Identifier: Apache-2.0"
   ],
   "metadata": {
    "Collapsed": "false"
   }
  },
  {
   "cell_type": "markdown",
   "source": [
    "# HMEQ Dataset : Build and Import Trained Models into SAS Model Manager\n",
    "\n",
    "This notebook provides an example of how to build and train a Python model and then import the model into SAS Model Manager using the fleet maintenance data set. Lines of code that must be modified by the user, such as directory paths are noted with the comment \"_Changes required by user._\".\n",
    "\n",
    "_**Note:** If you download only this notebook and not the rest of the repository, you must also download the hmeq.csv file from the data folder in the examples directory. These files are used when executing this notebook example._\n",
    "\n",
    "Here are the steps shown in this notebook:\n",
    "\n",
    "1. Import and review data and preprocess for model training.\n",
    "2. Build, train, and access a decision tree, random forest, and gradient boosting model.\n",
    "3. Serialize the models into separate pickle files.\n",
    "4. Write the metadata JSON files needed for importing into SAS Model Manager as well as optional files for fit statistics and ROC/Lift charts.\n",
    "4. Write a score code Python file for model scoring.\n",
    "5. Zip the pickle, JSON, and score code files into an archive file.\n",
    "6. Import the ZIP archive file to SAS Model Manager via the Session object and relevant function call."
   ],
   "metadata": {
    "Collapsed": "false"
   }
  },
  {
   "cell_type": "markdown",
   "source": [
    "### Python Package Imports"
   ],
   "metadata": {
    "Collapsed": "false"
   }
  },
  {
   "cell_type": "code",
   "execution_count": null,
   "source": [
    "# Dataframes for data manipulations\r\n",
    "import pandas as pd\r\n",
    "pd.options.mode.chained_assignment = None  # default='warn'\r\n",
    "# Mathematical calculations and array handling\r\n",
    "import numpy as np\r\n",
    "\r\n",
    "# Data partitioning for TRAIN and TEST data sets\r\n",
    "from sklearn.model_selection import train_test_split\r\n",
    "# Decision tree, random forest, and gradient boosting models\r\n",
    "from sklearn.tree import DecisionTreeClassifier\r\n",
    "from sklearn.ensemble import RandomForestClassifier, GradientBoostingClassifier\r\n",
    "# Model assessments \r\n",
    "from sklearn.metrics import classification_report, confusion_matrix\r\n",
    "\r\n",
    "# Embedded plotting\r\n",
    "import matplotlib.pyplot as plt \r\n",
    "plt.rc(\"font\", size=14)\r\n",
    "\r\n",
    "# Pathing support\r\n",
    "from pathlib import Path\r\n",
    "\r\n",
    "# Import H2O and check the version\r\n",
    "import h2o\r\n",
    "from h2o.estimators.glm import H2OGeneralizedLinearEstimator\r\n",
    "\r\n",
    "# sasctl interface for importing models\r\n",
    "import sasctl.pzmm as pzmm\r\n",
    "from sasctl import Session\r\n",
    "from sasctl.services import model_repository as modelRepo"
   ],
   "outputs": [],
   "metadata": {
    "Collapsed": "false"
   }
  },
  {
   "cell_type": "code",
   "execution_count": null,
   "source": [
    "h2o.__version__"
   ],
   "outputs": [],
   "metadata": {}
  },
  {
   "cell_type": "code",
   "execution_count": null,
   "source": [
    "h2o.init()"
   ],
   "outputs": [],
   "metadata": {}
  },
  {
   "cell_type": "markdown",
   "source": [
    "### Import and Review Data Set"
   ],
   "metadata": {
    "Collapsed": "false"
   }
  },
  {
   "cell_type": "code",
   "execution_count": null,
   "source": [
    "hmeqData = h2o.import_file('data/hmeq.csv',sep= ',')\r\n",
    "hmeqData.shape"
   ],
   "outputs": [],
   "metadata": {
    "Collapsed": "false"
   }
  },
  {
   "cell_type": "markdown",
   "source": [
    "### Preprocess Data"
   ],
   "metadata": {
    "Collapsed": "false"
   }
  },
  {
   "cell_type": "code",
   "execution_count": null,
   "source": [
    "hmeqData['BAD'] = hmeqData['BAD'].asfactor()\r\n",
    "\r\n",
    "train, validation, test = hmeqData.split_frame(ratios=[.6, .2], seed=42)\r\n",
    "\r\n",
    "y = 'BAD'\r\n",
    "x = list(hmeqData.columns)\r\n",
    "x.remove(y)"
   ],
   "outputs": [],
   "metadata": {
    "Collapsed": "false"
   }
  },
  {
   "cell_type": "markdown",
   "source": [
    "### Create, Train, and Assess Model"
   ],
   "metadata": {
    "Collapsed": "false"
   }
  },
  {
   "cell_type": "code",
   "execution_count": null,
   "source": [
    "glmFit = H2OGeneralizedLinearEstimator(family='binomial', model_id='glmfit', lambda_search=True)\r\n",
    "glmFit.train(x=x, y=y, training_frame=train, validation_frame=validation)"
   ],
   "outputs": [],
   "metadata": {
    "Collapsed": "false"
   }
  },
  {
   "cell_type": "code",
   "execution_count": null,
   "source": [
    "# Check the model performance and print its accuracy\r\n",
    "glmPerf = glmFit.model_performance(test)\r\n",
    "print(glmPerf.accuracy())"
   ],
   "outputs": [],
   "metadata": {
    "Collapsed": "false"
   }
  },
  {
   "cell_type": "code",
   "execution_count": null,
   "source": [
    "h2o.save_model(glmFit, path='data/hmeqModels/H2OBinaryGLM')"
   ],
   "outputs": [],
   "metadata": {}
  },
  {
   "cell_type": "markdown",
   "source": [
    "### Register Model in SAS Model Manager with pzmm"
   ],
   "metadata": {
    "Collapsed": "false"
   }
  },
  {
   "cell_type": "code",
   "execution_count": null,
   "source": [
    "modelPrefix = 'glmFit'\r\n",
    "zipFolder = Path.cwd() / 'data/hmeqModels/H2OBinaryGLM/'\r\n",
    "pzmm.PickleModel.pickleTrainedModel(_, glmFit, modelPrefix, zipFolder, isH2OModel=True, isBinaryModel=True)"
   ],
   "outputs": [],
   "metadata": {
    "Collapsed": "false"
   }
  },
  {
   "cell_type": "code",
   "execution_count": null,
   "source": [
    "trainDF = train.as_data_frame()\r\n",
    "J = pzmm.JSONFiles()\r\n",
    "\r\n",
    "# Write input variable mapping to a json file\r\n",
    "J.writeVarJSON(trainDF[x], isInput=True, jPath=zipFolder)\r\n",
    "\r\n",
    "# Set output variables and assign an event threshold, then write output variable mapping\r\n",
    "outputVar = pd.DataFrame(columns=['EM_EVENTPROBABILITY', 'EM_CLASSIFICATION'])\r\n",
    "outputVar['EM_CLASSIFICATION'] = trainDF[y].astype('category').cat.categories.astype('str')\r\n",
    "outputVar['EM_EVENTPROBABILITY'] = 0.5 # Event threshold\r\n",
    "J.writeVarJSON(outputVar, isInput=False, jPath=zipFolder)\r\n",
    "\r\n",
    "# Write model properties to a json file\r\n",
    "J.writeModelPropertiesJSON(modelName=modelPrefix,\r\n",
    "                            modelDesc='',\r\n",
    "                            targetVariable=y,\r\n",
    "                            modelType='',\r\n",
    "                            modelPredictors=x,\r\n",
    "                            targetEvent=1,\r\n",
    "                            numTargetCategories=1,\r\n",
    "                            eventProbVar='EM_EVENTPROBABILITY',\r\n",
    "                            jPath=zipFolder,\r\n",
    "                            modeler='sasdemo')\r\n",
    "\r\n",
    "# Write model metadata to a json file\r\n",
    "J.writeFileMetadataJSON(modelPrefix, jPath=zipFolder)"
   ],
   "outputs": [],
   "metadata": {
    "Collapsed": "false"
   }
  },
  {
   "cell_type": "code",
   "execution_count": null,
   "source": [
    "import getpass\r\n",
    "username = getpass.getpass()\r\n",
    "password = getpass.getpass()\r\n",
    "host = 'sas.demo.com'\r\n",
    "sess = Session(host, username, password, protocol='http')"
   ],
   "outputs": [],
   "metadata": {
    "Collapsed": "false"
   }
  },
  {
   "cell_type": "code",
   "execution_count": null,
   "source": [
    "pzmm.ImportModel.pzmmImportModel(zipFolder, modelPrefix, 'BinaryH2OExample', trainDF[x], trainDF[y], predictmethod=None, isH2OModel=True, force=True)\r\n"
   ],
   "outputs": [],
   "metadata": {
    "Collapsed": "false"
   }
  },
  {
   "cell_type": "code",
   "execution_count": null,
   "source": [],
   "outputs": [],
   "metadata": {}
  }
 ],
 "metadata": {
  "interpreter": {
   "hash": "f9708d3f38eeab835578f0695c8890716ee809285281a28db6e379a5abca1310"
  },
  "kernelspec": {
   "display_name": "Python 3",
   "language": "python",
   "name": "python3"
  },
  "language_info": {
   "codemirror_mode": {
    "name": "ipython",
    "version": 3
   },
   "file_extension": ".py",
   "mimetype": "text/x-python",
   "name": "python",
   "nbconvert_exporter": "python",
   "pygments_lexer": "ipython3",
   "version": "3.7.4"
  },
  "latex_envs": {
   "LaTeX_envs_menu_present": true,
   "autoclose": true,
   "autocomplete": true,
   "bibliofile": "biblio.bib",
   "cite_by": "apalike",
   "current_citInitial": 1,
   "eqLabelWithNumbers": true,
   "eqNumInitial": 1,
   "hotkeys": {
    "equation": "Ctrl-E",
    "itemize": "Ctrl-I"
   },
   "labels_anchors": false,
   "latex_user_defs": false,
   "report_style_numbering": false,
   "user_envs_cfg": false
  },
  "varInspector": {
   "cols": {
    "lenName": 16,
    "lenType": 16,
    "lenVar": 40
   },
   "kernels_config": {
    "python": {
     "delete_cmd_postfix": "",
     "delete_cmd_prefix": "del ",
     "library": "var_list.py",
     "varRefreshCmd": "print(var_dic_list())"
    },
    "r": {
     "delete_cmd_postfix": ") ",
     "delete_cmd_prefix": "rm(",
     "library": "var_list.r",
     "varRefreshCmd": "cat(var_dic_list()) "
    }
   },
   "types_to_exclude": [
    "module",
    "function",
    "builtin_function_or_method",
    "instance",
    "_Feature"
   ],
   "window_display": false
  }
 },
 "nbformat": 4,
 "nbformat_minor": 4
}